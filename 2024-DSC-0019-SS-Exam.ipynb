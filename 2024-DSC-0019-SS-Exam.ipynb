{
 "cells": [
  {
   "cell_type": "code",
   "execution_count": 106,
   "id": "4495066d-9fa2-4794-9987-9712a420e54c",
   "metadata": {},
   "outputs": [],
   "source": [
    "import numpy as np"
   ]
  },
  {
   "cell_type": "code",
   "execution_count": 107,
   "id": "4cb4a54a-a1c6-46ef-a15c-c0f700406c5c",
   "metadata": {},
   "outputs": [],
   "source": [
    "from numpy import random"
   ]
  },
  {
   "cell_type": "code",
   "execution_count": 108,
   "id": "7c254a5b-2e5d-4074-a908-655f716a2b7c",
   "metadata": {},
   "outputs": [],
   "source": [
    "import seaborn as sns"
   ]
  },
  {
   "cell_type": "code",
   "execution_count": 109,
   "id": "6aadfce0-643c-4c0c-9d5a-2bbb8ea77932",
   "metadata": {},
   "outputs": [],
   "source": [
    "import matplotlib.pyplot as plt"
   ]
  },
  {
   "cell_type": "markdown",
   "id": "53ed0de8-4c93-43dc-ae1c-6cb2dafbc2a0",
   "metadata": {},
   "source": [
    "# Qn 5"
   ]
  },
  {
   "cell_type": "code",
   "execution_count": 110,
   "id": "6dc02d9b-ec05-4785-8b41-6a4600e0d34b",
   "metadata": {},
   "outputs": [
    {
     "data": {
      "text/plain": [
       "array([[1. , 0.2, 0.5],\n",
       "       [0.2, 1. , 0.8],\n",
       "       [0.5, 0.8, 0.1]])"
      ]
     },
     "execution_count": 110,
     "metadata": {},
     "output_type": "execute_result"
    }
   ],
   "source": [
    "x = ([[1, 0.2, 0.5],[0.2, 1, 0.8],[0.5, 0.8, 0.1]])\n",
    "np.array(x)\n"
   ]
  },
  {
   "cell_type": "markdown",
   "id": "1b6d9f85-1222-41dd-adff-c50e3d1ab4be",
   "metadata": {},
   "source": [
    "# (i)"
   ]
  },
  {
   "cell_type": "code",
   "execution_count": 111,
   "id": "23ae7afe-3a7c-4773-a114-ad45ac185c8b",
   "metadata": {},
   "outputs": [
    {
     "data": {
      "text/plain": [
       "array([[1. , 0.2, 0.5],\n",
       "       [0.2, 1. , 0.8],\n",
       "       [0.5, 0.8, 0.1]])"
      ]
     },
     "execution_count": 111,
     "metadata": {},
     "output_type": "execute_result"
    }
   ],
   "source": [
    "np.transpose(x)"
   ]
  },
  {
   "cell_type": "markdown",
   "id": "86f49f9c-6832-4424-aa92-4b11389a14c0",
   "metadata": {},
   "source": [
    "# (ii)"
   ]
  },
  {
   "cell_type": "code",
   "execution_count": 112,
   "id": "afb231f7-8d20-4c3b-acf4-df9cbeec2604",
   "metadata": {},
   "outputs": [
    {
     "data": {
      "text/plain": [
       "np.float64(-0.6340000000000001)"
      ]
     },
     "execution_count": 112,
     "metadata": {},
     "output_type": "execute_result"
    }
   ],
   "source": [
    "np.linalg.det(x)"
   ]
  },
  {
   "cell_type": "markdown",
   "id": "119826be-b6e1-43e7-84f4-7dfafbdca855",
   "metadata": {},
   "source": [
    "# (iii)"
   ]
  },
  {
   "cell_type": "code",
   "execution_count": 3,
   "id": "727ce002-a4ac-43b0-9b84-eaf14501f336",
   "metadata": {},
   "outputs": [
    {
     "ename": "NameError",
     "evalue": "name 'np' is not defined",
     "output_type": "error",
     "traceback": [
      "\u001b[1;31m---------------------------------------------------------------------------\u001b[0m",
      "\u001b[1;31mNameError\u001b[0m                                 Traceback (most recent call last)",
      "Cell \u001b[1;32mIn[3], line 1\u001b[0m\n\u001b[1;32m----> 1\u001b[0m x \u001b[38;5;241m=\u001b[39m \u001b[43mnp\u001b[49m\u001b[38;5;241m.\u001b[39marray([[\u001b[38;5;241m1\u001b[39m, \u001b[38;5;241m0.2\u001b[39m, \u001b[38;5;241m0.5\u001b[39m],[\u001b[38;5;241m0.2\u001b[39m, \u001b[38;5;241m1\u001b[39m, \u001b[38;5;241m0.8\u001b[39m],[\u001b[38;5;241m0.5\u001b[39m, \u001b[38;5;241m0.8\u001b[39m, \u001b[38;5;241m0.1\u001b[39m]])\n\u001b[0;32m      2\u001b[0m np\u001b[38;5;241m.\u001b[39mdecompose(x)\n",
      "\u001b[1;31mNameError\u001b[0m: name 'np' is not defined"
     ]
    }
   ],
   "source": [
    "x = np.array([[1, 0.2, 0.5],[0.2, 1, 0.8],[0.5, 0.8, 0.1]])\n",
    "np.decompose(x)\n"
   ]
  },
  {
   "cell_type": "markdown",
   "id": "698b594d-7d87-4339-83a4-af60c8a8f572",
   "metadata": {},
   "source": [
    "# (iv)"
   ]
  },
  {
   "cell_type": "code",
   "execution_count": 124,
   "id": "f2689f59-2f6c-481c-93d6-c62c8e3941ef",
   "metadata": {},
   "outputs": [
    {
     "ename": "AttributeError",
     "evalue": "module 'numpy' has no attribute 'transform'",
     "output_type": "error",
     "traceback": [
      "\u001b[1;31m---------------------------------------------------------------------------\u001b[0m",
      "\u001b[1;31mAttributeError\u001b[0m                            Traceback (most recent call last)",
      "Cell \u001b[1;32mIn[124], line 1\u001b[0m\n\u001b[1;32m----> 1\u001b[0m \u001b[43mnp\u001b[49m\u001b[38;5;241;43m.\u001b[39;49m\u001b[43mtransform\u001b[49m(x)\n",
      "File \u001b[1;32m~\\AppData\\Local\\Programs\\Python\\Python312\\Lib\\site-packages\\numpy\\__init__.py:428\u001b[0m, in \u001b[0;36m__getattr__\u001b[1;34m(attr)\u001b[0m\n\u001b[0;32m    425\u001b[0m     \u001b[38;5;28;01mimport\u001b[39;00m \u001b[38;5;21;01mnumpy\u001b[39;00m\u001b[38;5;21;01m.\u001b[39;00m\u001b[38;5;21;01mchar\u001b[39;00m \u001b[38;5;28;01mas\u001b[39;00m \u001b[38;5;21;01mchar\u001b[39;00m\n\u001b[0;32m    426\u001b[0m     \u001b[38;5;28;01mreturn\u001b[39;00m char\u001b[38;5;241m.\u001b[39mchararray\n\u001b[1;32m--> 428\u001b[0m \u001b[38;5;28;01mraise\u001b[39;00m \u001b[38;5;167;01mAttributeError\u001b[39;00m(\u001b[38;5;124m\"\u001b[39m\u001b[38;5;124mmodule \u001b[39m\u001b[38;5;132;01m{!r}\u001b[39;00m\u001b[38;5;124m has no attribute \u001b[39m\u001b[38;5;124m\"\u001b[39m\n\u001b[0;32m    429\u001b[0m                      \u001b[38;5;124m\"\u001b[39m\u001b[38;5;132;01m{!r}\u001b[39;00m\u001b[38;5;124m\"\u001b[39m\u001b[38;5;241m.\u001b[39mformat(\u001b[38;5;18m__name__\u001b[39m, attr))\n",
      "\u001b[1;31mAttributeError\u001b[0m: module 'numpy' has no attribute 'transform'"
     ]
    }
   ],
   "source": [
    "x = np.array([[1, 0.2, 0.5],[0.2, 1, 0.8],[0.5, 0.8, 0.1]])\n",
    "np.transform(x)"
   ]
  },
  {
   "cell_type": "markdown",
   "id": "a65d3da4-b526-40b2-865a-2124fcb80ec2",
   "metadata": {},
   "source": [
    "# Qn 6"
   ]
  },
  {
   "cell_type": "markdown",
   "id": "d1779b3e-2f2e-4a27-ba08-a676a77a125d",
   "metadata": {},
   "source": [
    "# (i)"
   ]
  },
  {
   "cell_type": "code",
   "execution_count": 115,
   "id": "957cbcc0-07ca-4269-adda-acbe648f383b",
   "metadata": {},
   "outputs": [
    {
     "data": {
      "text/plain": [
       "array([ 9,  2, 10,  7,  2,  4,  3,  4,  3,  1,  8,  4,  7,  7,  3,  4,  7,\n",
       "        3,  6,  9,  4,  7,  2,  6,  7,  3,  5,  5,  4,  9,  1,  5,  8,  5,\n",
       "        3,  7,  8,  6,  4,  3,  4,  2,  4,  3,  3,  1,  6,  5,  3,  3,  4,\n",
       "        8,  7,  8,  2,  7,  3,  5,  3,  7,  2,  3,  5,  6,  3,  6,  6,  5,\n",
       "        4,  8,  4,  1,  6,  4,  2,  3,  3,  5,  5,  1,  5,  7,  3,  7,  7,\n",
       "        3, 10,  7,  7,  3,  8,  2,  4,  6,  5,  6,  7,  2,  5,  5,  8,  4,\n",
       "        2,  2,  3,  9,  9,  6,  3,  4,  6,  2,  2,  2,  2,  4,  3,  8,  6,\n",
       "       11,  5,  8,  0,  4,  5,  2,  4,  4,  5,  7,  3,  3,  6,  6,  7,  4,\n",
       "        2,  7,  3,  6,  6,  8,  8,  3,  4,  2,  2,  4,  3,  2,  6,  5,  3,\n",
       "        5,  7,  5,  6,  7,  8,  7,  5,  8,  1,  6,  2,  3,  6, 12,  6,  4,\n",
       "        5,  2,  4,  7,  3,  6,  3,  3,  8,  6,  5,  3,  5, 10,  4,  5,  7,\n",
       "        7,  7,  7,  4,  5,  5,  5,  6,  6,  3,  2,  4,  7,  9,  5,  1,  5,\n",
       "       11,  9,  6,  3,  6,  7,  5,  6,  0, 10,  5,  6,  4,  8,  5,  2,  9,\n",
       "        5,  4,  3,  6,  3,  7, 10,  5,  2,  2,  5,  5,  7,  3,  4,  4,  6,\n",
       "        4,  5,  6,  4,  6,  5,  9,  6,  4,  4,  4,  6,  7,  4,  2,  4,  4,\n",
       "        4,  3,  2,  3,  8,  4,  2,  4, 10,  6,  4,  5,  5,  4,  2,  4,  7,\n",
       "        4,  6,  5,  7, 10,  3,  2,  3,  3,  2,  6,  7,  2,  4,  4,  2,  4,\n",
       "        4,  5,  1, 10,  4,  0,  5,  3,  6,  6,  6,  4,  8,  6,  3,  5,  6,\n",
       "        2,  2,  2,  7,  3,  6,  8,  5,  7,  7,  4,  5,  6,  2,  4,  4,  9,\n",
       "        1,  3,  6,  2,  8,  6,  9,  7,  6,  8,  5, 10,  5,  5,  5,  4,  4,\n",
       "        8,  5,  4,  7,  3,  6,  3,  5,  1,  6,  6,  4,  3,  3,  4,  2,  5,\n",
       "        4,  3,  3,  6,  8,  2,  2,  6,  9,  3,  4, 10,  5,  6,  4,  3,  3,\n",
       "        4,  8,  4,  5,  7,  2,  2,  3,  5,  6,  4,  8,  2,  4, 10,  3,  3,\n",
       "        2,  4,  5,  6,  5,  5,  2,  2,  6,  4,  5,  7,  4,  7,  5, 10,  3,\n",
       "        6, 10,  5,  5,  4,  6,  7,  7,  2,  4,  4,  7,  6,  4,  0,  5,  2,\n",
       "        4,  5,  6,  5,  9,  3,  9,  7,  2,  6,  4,  4,  6,  7,  4,  6,  4,\n",
       "        9,  3,  2,  6,  4,  5,  4,  6,  3,  3,  7,  3,  2,  3,  5,  7,  0,\n",
       "        5,  7,  4,  7,  8,  5,  8,  6,  5,  5,  2,  8,  6,  4,  5,  6,  4,\n",
       "        4,  8,  4,  6,  8,  5,  5,  3,  1,  2,  2,  2,  3,  4,  4,  4,  5,\n",
       "        6,  2,  5,  1,  4,  3,  5,  9,  4,  5,  8,  4,  9,  6,  8,  6,  7,\n",
       "        7,  2,  5,  3,  4,  7,  2,  2,  6,  3,  3, 11,  3,  2,  2,  5,  7,\n",
       "        9,  9,  3,  3, 10,  9,  6,  6,  5,  3,  6,  6,  9,  8,  7,  4,  6,\n",
       "        5,  8,  4,  6,  9,  2,  9,  3,  0,  3,  7,  0,  3,  4,  4,  2,  1,\n",
       "        5,  4,  3,  6,  6,  4,  3,  5, 10,  8,  3,  2,  6,  8,  3,  6,  5,\n",
       "        4,  5,  5,  7,  6,  2,  2,  2,  5,  4,  6,  5,  1,  5,  4,  3,  2,\n",
       "        7, 10,  7,  7,  6,  4,  5,  3,  3,  8,  4, 14,  8, 10,  4, 10,  6,\n",
       "        6,  5,  3,  4,  1,  8,  2,  8,  8,  5,  8,  8,  5, 10,  4,  2,  5,\n",
       "        7,  4,  5,  6,  7,  8,  2,  3,  7,  4,  2,  8,  5,  5,  4,  5,  5,\n",
       "        4,  5,  5,  4,  6,  8,  5,  3,  6,  3,  5,  4,  5,  4,  3,  0,  3,\n",
       "        5,  6,  7,  4,  4,  3,  2,  4,  4, 11,  8,  6,  5,  4,  6,  6,  4,\n",
       "       10,  4,  4,  8,  6,  4,  3,  3,  5,  7,  7, 10,  9,  6,  3,  6,  3,\n",
       "        4,  3,  2,  4,  2,  4,  6,  6,  4,  5,  1,  4,  6,  6,  3,  4,  6,\n",
       "        2,  1,  4,  4,  4,  6,  8,  3,  4,  6,  5,  9,  4,  7,  5,  3,  9,\n",
       "        5,  4,  8,  2,  7,  6,  3,  4,  5,  5,  6,  2,  4,  4,  5,  3,  5,\n",
       "        3,  5,  7,  4,  4,  4,  7,  3,  8,  5,  7,  5,  6,  8,  3,  4,  5,\n",
       "        7,  7,  6,  6,  4,  4,  6,  5,  7,  7,  3,  8,  1,  4,  8,  4,  5,\n",
       "        3,  5,  3,  6,  2,  6,  5,  5,  8,  3,  7,  5,  5,  5,  4,  4, 13,\n",
       "        6,  5,  5,  2,  6,  3,  1,  8,  6,  6,  1,  3,  3,  3,  2,  9,  4,\n",
       "        9,  2,  5,  8,  1,  6,  2,  9,  3,  1,  4,  3,  8,  8,  1,  4,  4,\n",
       "        9,  7,  8,  3,  5,  9,  7,  3,  6,  4,  7,  3,  2,  7,  6,  5,  4,\n",
       "        6,  5,  9,  5,  2,  9,  4,  4,  2,  3,  5,  6,  4,  9,  5,  2,  1,\n",
       "        6,  4,  1,  5,  6,  7,  5,  4,  4,  4,  5,  3,  5,  9,  4, 12,  8,\n",
       "        6,  4,  8,  3,  5,  6,  8,  2,  6,  6,  7,  3,  5,  6,  6,  3,  3,\n",
       "        5,  3,  3,  6,  5,  1,  8,  5,  3,  5,  1,  7,  6,  6,  5,  5,  5,\n",
       "        6,  3,  7,  2,  1,  8,  6, 11,  3,  9,  7,  5,  6,  8,  4,  4,  6,\n",
       "        6,  5,  3, 12,  4,  2,  5,  7,  8,  7,  1,  7,  1,  5,  2,  3,  3,\n",
       "       10, 10,  7,  4,  3,  5,  6,  4,  8,  3,  3,  3,  2,  4,  4,  3,  6,\n",
       "        5,  3,  0,  2,  7,  5,  4,  7,  7,  3,  0,  5,  8,  8,  5,  5,  4,\n",
       "        4,  5,  4,  2,  5,  7,  9,  2,  2,  7,  7,  8,  8,  4],\n",
       "      dtype=int32)"
      ]
     },
     "execution_count": 115,
     "metadata": {},
     "output_type": "execute_result"
    }
   ],
   "source": [
    "x=random.poisson(lam=5,size=1000)\n",
    "x"
   ]
  },
  {
   "cell_type": "markdown",
   "id": "e078d734-bd74-4ac6-a571-0b784793908a",
   "metadata": {},
   "source": [
    "# (ii)"
   ]
  },
  {
   "cell_type": "code",
   "execution_count": 116,
   "id": "26f4447c-0c3b-4ce0-ace9-af7bcbf657ba",
   "metadata": {},
   "outputs": [
    {
     "name": "stdout",
     "output_type": "stream",
     "text": [
      "4.961\n"
     ]
    }
   ],
   "source": [
    "meanValue = np.mean (x)\n",
    "print(meanValue)"
   ]
  },
  {
   "cell_type": "code",
   "execution_count": 117,
   "id": "3c0faed1-76a7-4e97-8515-b0d8f41d83c3",
   "metadata": {},
   "outputs": [
    {
     "name": "stdout",
     "output_type": "stream",
     "text": [
      "5.167478999999999\n"
     ]
    }
   ],
   "source": [
    "varValue = np.var (x)\n",
    "print(varValue)"
   ]
  },
  {
   "cell_type": "markdown",
   "id": "46661ca6-b090-443d-a458-26648d446dde",
   "metadata": {},
   "source": [
    "# (iii)"
   ]
  },
  {
   "cell_type": "code",
   "execution_count": 125,
   "id": "82380792-76a5-4ae2-a219-869e9fd293b7",
   "metadata": {},
   "outputs": [
    {
     "data": {
      "image/png": "[encoded data removed]",
      "text/plain": [
       "<Figure size 640x480 with 1 Axes>"
      ]
     },
     "metadata": {},
     "output_type": "display_data"
    }
   ],
   "source": [
    "x=random.poisson(lam=5,size=1000)\n",
    "sns.histplot(x,bins=10,kde=False,color='green')\n",
    "plt.xlabel('Number of customers')\n",
    "plt.ylabel('Count')\n",
    "plt.title('Histogram showing Poisson Distribution')\n",
    "plt.show()"
   ]
  },
  {
   "cell_type": "code",
   "execution_count": null,
   "id": "997de53d-748e-4a52-8748-4eccac0cf1af",
   "metadata": {},
   "outputs": [],
   "source": []
  },
  {
   "cell_type": "code",
   "execution_count": null,
   "id": "6caf97c6-b6ed-4d11-92fb-d2dcb8be7cc6",
   "metadata": {},
   "outputs": [],
   "source": []
  }
 ],
 "metadata": {
  "kernelspec": {
   "display_name": "Python 3 (ipykernel)",
   "language": "python",
   "name": "python3"
  },
  "language_info": {
   "codemirror_mode": {
    "name": "ipython",
    "version": 3
   },
   "file_extension": ".py",
   "mimetype": "text/x-python",
   "name": "python",
   "nbconvert_exporter": "python",
   "pygments_lexer": "ipython3",
   "version": "3.12.5"
  }
 },
 "nbformat": 4,
 "nbformat_minor": 5
}
